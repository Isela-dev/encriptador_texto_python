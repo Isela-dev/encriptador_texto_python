{
  "nbformat": 4,
  "nbformat_minor": 0,
  "metadata": {
    "colab": {
      "provenance": [],
      "gpuType": "T4"
    },
    "kernelspec": {
      "name": "python3",
      "display_name": "Python 3"
    },
    "language_info": {
      "name": "python"
    },
    "widgets": {
      "application/vnd.jupyter.widget-state+json": {
        "01440d32dbe74b95b391b8c8ee93fd2a": {
          "model_module": "@jupyter-widgets/controls",
          "model_name": "TextareaModel",
          "model_module_version": "1.5.0",
          "state": {
            "_dom_classes": [],
            "_model_module": "@jupyter-widgets/controls",
            "_model_module_version": "1.5.0",
            "_model_name": "TextareaModel",
            "_view_count": null,
            "_view_module": "@jupyter-widgets/controls",
            "_view_module_version": "1.5.0",
            "_view_name": "TextareaView",
            "continuous_update": true,
            "description": "Texto:",
            "description_tooltip": null,
            "disabled": false,
            "layout": "IPY_MODEL_64e2bd712d8147a3863869f6082b5248",
            "placeholder": "Ingrese el texto aquí",
            "rows": null,
            "style": "IPY_MODEL_3fcbb28a6a4c4a848d1a830e030d2826",
            "value": "Ingrese el texto aquí"
          }
        },
        "64e2bd712d8147a3863869f6082b5248": {
          "model_module": "@jupyter-widgets/base",
          "model_name": "LayoutModel",
          "model_module_version": "1.2.0",
          "state": {
            "_model_module": "@jupyter-widgets/base",
            "_model_module_version": "1.2.0",
            "_model_name": "LayoutModel",
            "_view_count": null,
            "_view_module": "@jupyter-widgets/base",
            "_view_module_version": "1.2.0",
            "_view_name": "LayoutView",
            "align_content": null,
            "align_items": null,
            "align_self": null,
            "border": null,
            "bottom": null,
            "display": null,
            "flex": null,
            "flex_flow": null,
            "grid_area": null,
            "grid_auto_columns": null,
            "grid_auto_flow": null,
            "grid_auto_rows": null,
            "grid_column": null,
            "grid_gap": null,
            "grid_row": null,
            "grid_template_areas": null,
            "grid_template_columns": null,
            "grid_template_rows": null,
            "height": "100px",
            "justify_content": null,
            "justify_items": null,
            "left": null,
            "margin": null,
            "max_height": null,
            "max_width": null,
            "min_height": null,
            "min_width": null,
            "object_fit": null,
            "object_position": null,
            "order": null,
            "overflow": null,
            "overflow_x": null,
            "overflow_y": null,
            "padding": null,
            "right": null,
            "top": null,
            "visibility": null,
            "width": "70%"
          }
        },
        "3fcbb28a6a4c4a848d1a830e030d2826": {
          "model_module": "@jupyter-widgets/controls",
          "model_name": "DescriptionStyleModel",
          "model_module_version": "1.5.0",
          "state": {
            "_model_module": "@jupyter-widgets/controls",
            "_model_module_version": "1.5.0",
            "_model_name": "DescriptionStyleModel",
            "_view_count": null,
            "_view_module": "@jupyter-widgets/base",
            "_view_module_version": "1.2.0",
            "_view_name": "StyleView",
            "description_width": ""
          }
        },
        "1733fbe65bd5475790edbf5a8fae5bf5": {
          "model_module": "@jupyter-widgets/controls",
          "model_name": "ButtonModel",
          "model_module_version": "1.5.0",
          "state": {
            "_dom_classes": [],
            "_model_module": "@jupyter-widgets/controls",
            "_model_module_version": "1.5.0",
            "_model_name": "ButtonModel",
            "_view_count": null,
            "_view_module": "@jupyter-widgets/controls",
            "_view_module_version": "1.5.0",
            "_view_name": "ButtonView",
            "button_style": "success",
            "description": "Encriptar",
            "disabled": false,
            "icon": "",
            "layout": "IPY_MODEL_c9a9cc71d5b84a6789d1758c86e050d6",
            "style": "IPY_MODEL_024c8d20ff604954ae531d8694b187d3",
            "tooltip": "Encriptar el texto"
          }
        },
        "c9a9cc71d5b84a6789d1758c86e050d6": {
          "model_module": "@jupyter-widgets/base",
          "model_name": "LayoutModel",
          "model_module_version": "1.2.0",
          "state": {
            "_model_module": "@jupyter-widgets/base",
            "_model_module_version": "1.2.0",
            "_model_name": "LayoutModel",
            "_view_count": null,
            "_view_module": "@jupyter-widgets/base",
            "_view_module_version": "1.2.0",
            "_view_name": "LayoutView",
            "align_content": null,
            "align_items": null,
            "align_self": null,
            "border": null,
            "bottom": null,
            "display": null,
            "flex": null,
            "flex_flow": null,
            "grid_area": null,
            "grid_auto_columns": null,
            "grid_auto_flow": null,
            "grid_auto_rows": null,
            "grid_column": null,
            "grid_gap": null,
            "grid_row": null,
            "grid_template_areas": null,
            "grid_template_columns": null,
            "grid_template_rows": null,
            "height": null,
            "justify_content": null,
            "justify_items": null,
            "left": null,
            "margin": null,
            "max_height": null,
            "max_width": null,
            "min_height": null,
            "min_width": null,
            "object_fit": null,
            "object_position": null,
            "order": null,
            "overflow": null,
            "overflow_x": null,
            "overflow_y": null,
            "padding": null,
            "right": null,
            "top": null,
            "visibility": null,
            "width": null
          }
        },
        "024c8d20ff604954ae531d8694b187d3": {
          "model_module": "@jupyter-widgets/controls",
          "model_name": "ButtonStyleModel",
          "model_module_version": "1.5.0",
          "state": {
            "_model_module": "@jupyter-widgets/controls",
            "_model_module_version": "1.5.0",
            "_model_name": "ButtonStyleModel",
            "_view_count": null,
            "_view_module": "@jupyter-widgets/base",
            "_view_module_version": "1.2.0",
            "_view_name": "StyleView",
            "button_color": null,
            "font_weight": ""
          }
        },
        "df4b947a59a749d4b9e8b148a980b8ed": {
          "model_module": "@jupyter-widgets/controls",
          "model_name": "ButtonModel",
          "model_module_version": "1.5.0",
          "state": {
            "_dom_classes": [],
            "_model_module": "@jupyter-widgets/controls",
            "_model_module_version": "1.5.0",
            "_model_name": "ButtonModel",
            "_view_count": null,
            "_view_module": "@jupyter-widgets/controls",
            "_view_module_version": "1.5.0",
            "_view_name": "ButtonView",
            "button_style": "info",
            "description": "Desencriptar",
            "disabled": false,
            "icon": "",
            "layout": "IPY_MODEL_7f6f7bc16dab45f2b3aa01d3a325f867",
            "style": "IPY_MODEL_e490379dcd1144a694b13277e300664d",
            "tooltip": "Desencriptar el texto"
          }
        },
        "7f6f7bc16dab45f2b3aa01d3a325f867": {
          "model_module": "@jupyter-widgets/base",
          "model_name": "LayoutModel",
          "model_module_version": "1.2.0",
          "state": {
            "_model_module": "@jupyter-widgets/base",
            "_model_module_version": "1.2.0",
            "_model_name": "LayoutModel",
            "_view_count": null,
            "_view_module": "@jupyter-widgets/base",
            "_view_module_version": "1.2.0",
            "_view_name": "LayoutView",
            "align_content": null,
            "align_items": null,
            "align_self": null,
            "border": null,
            "bottom": null,
            "display": null,
            "flex": null,
            "flex_flow": null,
            "grid_area": null,
            "grid_auto_columns": null,
            "grid_auto_flow": null,
            "grid_auto_rows": null,
            "grid_column": null,
            "grid_gap": null,
            "grid_row": null,
            "grid_template_areas": null,
            "grid_template_columns": null,
            "grid_template_rows": null,
            "height": null,
            "justify_content": null,
            "justify_items": null,
            "left": null,
            "margin": null,
            "max_height": null,
            "max_width": null,
            "min_height": null,
            "min_width": null,
            "object_fit": null,
            "object_position": null,
            "order": null,
            "overflow": null,
            "overflow_x": null,
            "overflow_y": null,
            "padding": null,
            "right": null,
            "top": null,
            "visibility": null,
            "width": null
          }
        },
        "e490379dcd1144a694b13277e300664d": {
          "model_module": "@jupyter-widgets/controls",
          "model_name": "ButtonStyleModel",
          "model_module_version": "1.5.0",
          "state": {
            "_model_module": "@jupyter-widgets/controls",
            "_model_module_version": "1.5.0",
            "_model_name": "ButtonStyleModel",
            "_view_count": null,
            "_view_module": "@jupyter-widgets/base",
            "_view_module_version": "1.2.0",
            "_view_name": "StyleView",
            "button_color": null,
            "font_weight": ""
          }
        },
        "9c04aa3f6ab9405ebb1d815640372004": {
          "model_module": "@jupyter-widgets/controls",
          "model_name": "TextareaModel",
          "model_module_version": "1.5.0",
          "state": {
            "_dom_classes": [],
            "_model_module": "@jupyter-widgets/controls",
            "_model_module_version": "1.5.0",
            "_model_name": "TextareaModel",
            "_view_count": null,
            "_view_module": "@jupyter-widgets/controls",
            "_view_module_version": "1.5.0",
            "_view_name": "TextareaView",
            "continuous_update": true,
            "description": "Resultado:",
            "description_tooltip": null,
            "disabled": false,
            "layout": "IPY_MODEL_fd4c5af996a947d5bcf13ea1d3cad79e",
            "placeholder": "Resultado",
            "rows": null,
            "style": "IPY_MODEL_43ae583e88a24c8d86f27ee0fcb36420",
            "value": "Ingrese el texto aquí"
          }
        },
        "fd4c5af996a947d5bcf13ea1d3cad79e": {
          "model_module": "@jupyter-widgets/base",
          "model_name": "LayoutModel",
          "model_module_version": "1.2.0",
          "state": {
            "_model_module": "@jupyter-widgets/base",
            "_model_module_version": "1.2.0",
            "_model_name": "LayoutModel",
            "_view_count": null,
            "_view_module": "@jupyter-widgets/base",
            "_view_module_version": "1.2.0",
            "_view_name": "LayoutView",
            "align_content": null,
            "align_items": null,
            "align_self": null,
            "border": null,
            "bottom": null,
            "display": null,
            "flex": null,
            "flex_flow": null,
            "grid_area": null,
            "grid_auto_columns": null,
            "grid_auto_flow": null,
            "grid_auto_rows": null,
            "grid_column": null,
            "grid_gap": null,
            "grid_row": null,
            "grid_template_areas": null,
            "grid_template_columns": null,
            "grid_template_rows": null,
            "height": "100px",
            "justify_content": null,
            "justify_items": null,
            "left": null,
            "margin": null,
            "max_height": null,
            "max_width": null,
            "min_height": null,
            "min_width": null,
            "object_fit": null,
            "object_position": null,
            "order": null,
            "overflow": null,
            "overflow_x": null,
            "overflow_y": null,
            "padding": null,
            "right": null,
            "top": null,
            "visibility": null,
            "width": "70%"
          }
        },
        "43ae583e88a24c8d86f27ee0fcb36420": {
          "model_module": "@jupyter-widgets/controls",
          "model_name": "DescriptionStyleModel",
          "model_module_version": "1.5.0",
          "state": {
            "_model_module": "@jupyter-widgets/controls",
            "_model_module_version": "1.5.0",
            "_model_name": "DescriptionStyleModel",
            "_view_count": null,
            "_view_module": "@jupyter-widgets/base",
            "_view_module_version": "1.2.0",
            "_view_name": "StyleView",
            "description_width": ""
          }
        }
      }
    },
    "accelerator": "GPU"
  },
  "cells": [
    {
      "cell_type": "code",
      "execution_count": 1,
      "metadata": {
        "id": "gc42xoELx9hh"
      },
      "outputs": [],
      "source": [
        "import ipywidgets as widgets\n",
        "from IPython.display import display"
      ]
    },
    {
      "cell_type": "code",
      "source": [
        "# Crear widgets\n",
        "text_input = widgets.Textarea(\n",
        "    value='Ingrese el texto aquí',\n",
        "    placeholder='Ingrese el texto aquí',\n",
        "    description='Texto:',\n",
        "    disabled=False,\n",
        "    layout=widgets.Layout(width='70%', height='100px')\n",
        ")\n",
        "\n",
        "result_output = widgets.Textarea(\n",
        "    value='',\n",
        "    placeholder='Resultado',\n",
        "    description='Resultado:',\n",
        "    disabled=False,\n",
        "    layout=widgets.Layout(width='70%', height='100px')\n",
        ")\n",
        "\n",
        "encrypt_button = widgets.Button(\n",
        "    description='Encriptar',\n",
        "    button_style='success',\n",
        "    tooltip='Encriptar el texto'\n",
        ")\n",
        "\n",
        "decrypt_button = widgets.Button(\n",
        "    description='Desencriptar',\n",
        "    button_style='info',\n",
        "    tooltip='Desencriptar el texto'\n",
        ")\n",
        "\n",
        "# Funciones de encriptado y desencriptado\n",
        "def encriptar(texto):\n",
        "    resultado = \"\"\n",
        "    for char in texto:\n",
        "        if char == \"e\":\n",
        "            resultado += \"enter\"\n",
        "        elif char == \"i\":\n",
        "            resultado += \"imes\"\n",
        "        elif char == \"a\":\n",
        "            resultado += \"ai\"\n",
        "        elif char == \"o\":\n",
        "            resultado += \"ober\"\n",
        "        elif char == \"u\":\n",
        "            resultado += \"ufat\"\n",
        "        else:\n",
        "            resultado += char\n",
        "    return resultado\n",
        "\n",
        "def desencriptar(texto):\n",
        "    resultado = texto.replace(\"enter\", \"e\")\n",
        "    resultado = resultado.replace(\"imes\", \"i\")\n",
        "    resultado = resultado.replace(\"ai\", \"a\")\n",
        "    resultado = resultado.replace(\"ober\", \"o\")\n",
        "    resultado = resultado.replace(\"ufat\", \"u\")\n",
        "    return resultado\n",
        "\n",
        "# Manejadores de eventos\n",
        "def on_encrypt_button_clicked(b):\n",
        "    texto = text_input.value\n",
        "    result_output.value = encriptar(texto)\n",
        "\n",
        "def on_decrypt_button_clicked(b):\n",
        "    texto = text_input.value\n",
        "    result_output.value = desencriptar(texto)\n",
        "\n",
        "# Asignar manejadores de eventos a los botones\n",
        "encrypt_button.on_click(on_encrypt_button_clicked)\n",
        "decrypt_button.on_click(on_decrypt_button_clicked)\n",
        "\n",
        "# Mostrar widgets\n",
        "display(text_input)\n",
        "display(encrypt_button)\n",
        "display(decrypt_button)\n",
        "display(result_output)"
      ],
      "metadata": {
        "colab": {
          "base_uri": "https://localhost:8080/",
          "height": 289,
          "referenced_widgets": [
            "01440d32dbe74b95b391b8c8ee93fd2a",
            "64e2bd712d8147a3863869f6082b5248",
            "3fcbb28a6a4c4a848d1a830e030d2826",
            "1733fbe65bd5475790edbf5a8fae5bf5",
            "c9a9cc71d5b84a6789d1758c86e050d6",
            "024c8d20ff604954ae531d8694b187d3",
            "df4b947a59a749d4b9e8b148a980b8ed",
            "7f6f7bc16dab45f2b3aa01d3a325f867",
            "e490379dcd1144a694b13277e300664d",
            "9c04aa3f6ab9405ebb1d815640372004",
            "fd4c5af996a947d5bcf13ea1d3cad79e",
            "43ae583e88a24c8d86f27ee0fcb36420"
          ]
        },
        "id": "fSVQF_cIyB07",
        "outputId": "3b070b85-4912-4b12-d99f-638820c43481"
      },
      "execution_count": 2,
      "outputs": [
        {
          "output_type": "display_data",
          "data": {
            "text/plain": [
              "Textarea(value='Ingrese el texto aquí', description='Texto:', layout=Layout(height='100px', width='70%'), plac…"
            ],
            "application/vnd.jupyter.widget-view+json": {
              "version_major": 2,
              "version_minor": 0,
              "model_id": "01440d32dbe74b95b391b8c8ee93fd2a"
            }
          },
          "metadata": {}
        },
        {
          "output_type": "display_data",
          "data": {
            "text/plain": [
              "Button(button_style='success', description='Encriptar', style=ButtonStyle(), tooltip='Encriptar el texto')"
            ],
            "application/vnd.jupyter.widget-view+json": {
              "version_major": 2,
              "version_minor": 0,
              "model_id": "1733fbe65bd5475790edbf5a8fae5bf5"
            }
          },
          "metadata": {}
        },
        {
          "output_type": "display_data",
          "data": {
            "text/plain": [
              "Button(button_style='info', description='Desencriptar', style=ButtonStyle(), tooltip='Desencriptar el texto')"
            ],
            "application/vnd.jupyter.widget-view+json": {
              "version_major": 2,
              "version_minor": 0,
              "model_id": "df4b947a59a749d4b9e8b148a980b8ed"
            }
          },
          "metadata": {}
        },
        {
          "output_type": "display_data",
          "data": {
            "text/plain": [
              "Textarea(value='', description='Resultado:', layout=Layout(height='100px', width='70%'), placeholder='Resultad…"
            ],
            "application/vnd.jupyter.widget-view+json": {
              "version_major": 2,
              "version_minor": 0,
              "model_id": "9c04aa3f6ab9405ebb1d815640372004"
            }
          },
          "metadata": {}
        }
      ]
    }
  ]
}